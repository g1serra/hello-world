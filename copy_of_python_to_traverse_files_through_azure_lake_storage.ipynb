{
  "nbformat": 4,
  "nbformat_minor": 0,
  "metadata": {
    "colab": {
      "provenance": []
    },
    "kernelspec": {
      "name": "python3",
      "display_name": "Python 3"
    },
    "language_info": {
      "name": "python"
    }
  },
  "cells": [
    {
      "cell_type": "markdown",
      "source": [
        "# [0] pip install"
      ],
      "metadata": {
        "id": "1AhS080xtvfp"
      }
    },
    {
      "cell_type": "code",
      "source": [
        "# !pip install azure-identity\n",
        "# !pip install azure-storage-blob\n",
        "# !pip install azure-storage-file-datalake\n",
        "# !pip install azure.storage.blob"
      ],
      "metadata": {
        "id": "x6Oaoz5Wksll"
      },
      "execution_count": null,
      "outputs": []
    },
    {
      "cell_type": "code",
      "source": [
        "\n",
        "import os, uuid, sys\n",
        "from azure.identity import DefaultAzureCredential\n",
        "from azure.storage.filedatalake import DataLakeServiceClient\n",
        "from azure.core._match_conditions import MatchConditions\n",
        "from azure.storage.filedatalake._models import ContentSettings\n"
      ],
      "metadata": {
        "id": "Mplh6q7_WdS3"
      },
      "execution_count": null,
      "outputs": []
    },
    {
      "cell_type": "markdown",
      "source": [
        "# [1] loop through directories"
      ],
      "metadata": {
        "id": "IutqUba_t2Db"
      }
    },
    {
      "cell_type": "code",
      "source": [
        "# adls2source\n",
        "storage_account_name = \"<storage-account-name>\"\n",
        "storage_account_key = \"<storage-account-key>\"\n",
        "\n",
        "# Authorize access and connect to data resources  authorized with the account key\n",
        "def initialize_storage_account(storage_account_name, storage_account_key):\n",
        "    try:  \n",
        "        global service_client       \n",
        "        service_client = DataLakeServiceClient(\n",
        "            account_url=\"{}://{}.dfs.core.windows.net\".format(\"https\", storage_account_name), \n",
        "            credential=storage_account_key\n",
        "            )\n",
        "    except Exception as e:\n",
        "        print(e)\n"
      ],
      "metadata": {
        "id": "78p7g_EtGeEf"
      },
      "execution_count": null,
      "outputs": []
    },
    {
      "cell_type": "code",
      "source": [
        "initialize_storage_account(\n",
        "    storage_account_name=storage_account_name, \n",
        "    storage_account_key=storage_account_key\n",
        ")"
      ],
      "metadata": {
        "id": "1Ux-Lco1XT09"
      },
      "execution_count": null,
      "outputs": []
    },
    {
      "cell_type": "code",
      "source": [
        "def list_directory_contents():\n",
        "    try:\n",
        "        file_system_client = service_client.get_file_system_client(file_system=\"<container-name>\")\n",
        "        paths = file_system_client.get_paths(path=\"<sub-dir-name>\")\n",
        "        for path in paths:\n",
        "            print(path.name)\n",
        "    except Exception as e:\n",
        "     print(e)\n"
      ],
      "metadata": {
        "id": "qog9vozqXSjb"
      },
      "execution_count": null,
      "outputs": []
    },
    {
      "cell_type": "code",
      "source": [
        "list_directory_contents()"
      ],
      "metadata": {
        "id": "JmGN-5_GV_vU"
      },
      "execution_count": null,
      "outputs": []
    },
    {
      "cell_type": "markdown",
      "source": [
        "# [2] walk through ALL Sub-Directory && Files in Storage Container "
      ],
      "metadata": {
        "id": "zdIl6ZL8t-bv"
      }
    },
    {
      "cell_type": "code",
      "source": [
        "import os\n",
        "import sys\n",
        "import json\n",
        "from azure.storage.blob import BlobServiceClient\n",
        "from azure.storage.blob import BlobPrefix"
      ],
      "metadata": {
        "id": "SCI66Yhj4MIO"
      },
      "execution_count": null,
      "outputs": []
    },
    {
      "cell_type": "code",
      "source": [
        "def walk_container(client, container_name):\n",
        "\n",
        "    container_client = client.get_container_client(container_name)\n",
        "\n",
        "    # Replace \"<connection_string>\" with your actual connection string\n",
        "    connection_string = \"DefaultEndpointsProtocol=https;AccountName=<storage-account-name>;AccountKey=<storage-account-key>;EndpointSuffix=core.windows.net\"\n",
        "\n",
        "    # Create a BlobServiceClient object\n",
        "    blob_service_client = BlobServiceClient.from_connection_string(connection_string)\n",
        "\n",
        "    # Specify the container name\n",
        "    container_name = \"<container-name>\"\n",
        "\n",
        "    # print(container_name)\n",
        "    for _sub1 in container_client.walk_blobs():\n",
        "        # print(_sub1.name)\n",
        "        for _sub2 in container_client.list_blobs(_sub1.name):\n",
        "            if _sub2.content_settings.content_type == \"text/csv\":\n",
        "                print(f\"{_sub2.container}/{_sub2.name}\")\n",
        "                # print(_sub2.content_settings.content_type)\n",
        "            else:\n",
        "                pass\n"
      ],
      "metadata": {
        "id": "l1dmDkB1ewLJ"
      },
      "execution_count": null,
      "outputs": []
    },
    {
      "cell_type": "code",
      "source": [
        "\n",
        "# Call the walk_container function\n",
        "walk_container(blob_service_client, container_name)\n"
      ],
      "metadata": {
        "id": "xkJ40dGnhM_J"
      },
      "execution_count": null,
      "outputs": []
    },
    {
      "cell_type": "markdown",
      "source": [
        "# [3] create python class to get all files in container"
      ],
      "metadata": {
        "id": "kF2jFQgSz9wj"
      }
    },
    {
      "cell_type": "code",
      "source": [
        "class GetFilesList():\n",
        "    \n",
        "    def __init__(self, container_name, client):\n",
        "        # self.container_name = container_name\n",
        "        self.connection_string = \"DefaultEndpointsProtocol=https;AccountName=adls2source;AccountKey=<storage-account-key>;EndpointSuffix=core.windows.net\"\n",
        "\n",
        "        # # Create a BlobServiceClient object\n",
        "        self.blob_service_client = BlobServiceClient.from_connection_string(connection_string)\n",
        "        self.client = self.blob_service_client\n",
        "\n",
        "        # # Specify the container name\n",
        "        self.container_name = \"<container-name>\"\n",
        "\n",
        "    def walk_container(self):\n",
        "\n",
        "        container_client = self.client.get_container_client(self.container_name)\n",
        "        # print(self.container_name)\n",
        "        for _sub1 in container_client.walk_blobs():\n",
        "            # print(_sub1.name)\n",
        "            for _sub2 in container_client.list_blobs(_sub1.name):\n",
        "                if _sub2.content_settings.content_type == \"text/csv\":\n",
        "                    print(f\"{_sub2.container}/{_sub2.name}\")\n",
        "                    # print(_sub2.content_settings.content_type)\n",
        "                else:\n",
        "                    pass\n"
      ],
      "metadata": {
        "id": "00VHbRvN6rlJ"
      },
      "execution_count": null,
      "outputs": []
    },
    {
      "cell_type": "code",
      "source": [
        "_list = GetFilesList(\"<container-name>\", blob_service_client)\n",
        "_list.walk_container()\n"
      ],
      "metadata": {
        "id": "HqYKT3mg6ud7"
      },
      "execution_count": null,
      "outputs": []
    }
  ]
}